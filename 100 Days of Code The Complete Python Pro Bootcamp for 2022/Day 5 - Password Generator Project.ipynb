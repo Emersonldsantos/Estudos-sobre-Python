{
 "cells": [
  {
   "cell_type": "markdown",
   "id": "de59d9e1",
   "metadata": {},
   "source": [
    "# Password Generator\n",
    "Crete a password generator with letters, numbers and symbols according to user requests."
   ]
  },
  {
   "cell_type": "code",
   "execution_count": 56,
   "id": "5da883c6",
   "metadata": {},
   "outputs": [
    {
     "name": "stdout",
     "output_type": "stream",
     "text": [
      "Welcome to the PyPassword Generator!\n",
      "How many letters would you like in your password?\n",
      "10\n",
      "How many symbols would you like?\n",
      "5\n",
      "How many numbers would you like?\n",
      "8\n",
      "8Y7dV1&d4n1m(!G976$xa%o\n"
     ]
    }
   ],
   "source": [
    "import random\n",
    "#Lista com todos os caracteres possíveis para a formação da nossa senha:\n",
    "letters = ['a', 'b', 'c', 'd', 'e', 'f', 'g', 'h', 'i', 'j', 'k', 'l', 'm', 'n', 'o', 'p', 'q', 'r', 's', 't', 'u', 'v', 'w', 'x', 'y', 'z', 'A', 'B', 'C', 'D', 'E', 'F', 'G', 'H', 'I', 'J', 'K', 'L', 'M', 'N', 'O', 'P', 'Q', 'R', 'S', 'T', 'U', 'V', 'W', 'X', 'Y', 'Z']\n",
    "numbers = ['0', '1', '2', '3', '4', '5', '6', '7', '8', '9']\n",
    "symbols = ['!', '#', '$', '%', '&', '(', ')', '*', '+']\n",
    "\n",
    "#Solicitação ao usuário qual a configuração de senha deseja: quantas letras, simbolos e números\n",
    "print(\"Welcome to the PyPassword Generator!\")\n",
    "nr_letters= int(input(\"How many letters would you like in your password?\\n\")) \n",
    "nr_symbols = int(input(f\"How many symbols would you like?\\n\"))\n",
    "nr_numbers = int(input(f\"How many numbers would you like?\\n\"))\n",
    "\n",
    "#Listas e uma variável para facilitar o loop for:\n",
    "character = [letters, numbers, symbols]\n",
    "lists = [nr_letters,nr_numbers,nr_symbols]\n",
    "password = ''\n",
    "\n",
    "#Loop for para percorrer as duas listas (caracter,lists) adicionando caracteres aleatórios a variável password de acordo com as exigências do usuário\n",
    "for i,item in enumerate(lists):\n",
    "    for n in range(1,(item+1)):\n",
    "        number = random.randint(0,(len(character[i])-1))\n",
    "        password += password.join(character[i][number])\n",
    "\n",
    "#Criação de uma nova lista de caracteres aleatórios com a password formada acima. A variável password está seguindo a sequência de quantidade de letras, quantidade de números e quantidade de simbolos para todos os casos. Esta lista irá tornar a senha realmente aleatória.\n",
    "random_password = random.sample(password,len(password))\n",
    "\n",
    "#Redefinir a variável password para conseguirmos printar uma string e não uma lista(só conseguimos realmente aleatorizar a senha na variável random_password que é uma list)\n",
    "password = ''\n",
    "\n",
    "#Loop for para adicionar todos os caracteres da nossa lista random_password em uma string\n",
    "for item in random_password:\n",
    "    password += password.join(item)\n",
    "    \n",
    "#Mostrando a nossa senha aleatória\n",
    "print(f'Your password is: {password}'')\n",
    "\n",
    "    \n",
    "    "
   ]
  }
 ],
 "metadata": {
  "kernelspec": {
   "display_name": "Python 3",
   "language": "python",
   "name": "python3"
  },
  "language_info": {
   "codemirror_mode": {
    "name": "ipython",
    "version": 3
   },
   "file_extension": ".py",
   "mimetype": "text/x-python",
   "name": "python",
   "nbconvert_exporter": "python",
   "pygments_lexer": "ipython3",
   "version": "3.8.8"
  }
 },
 "nbformat": 4,
 "nbformat_minor": 5
}

{
 "cells": [
  {
   "cell_type": "markdown",
   "id": "b48158bd",
   "metadata": {},
   "source": [
    "# Blind Auction\n",
    "\n",
    "Create a simple blind auction program."
   ]
  },
  {
   "cell_type": "code",
   "execution_count": 3,
   "id": "b4f3d1dd",
   "metadata": {},
   "outputs": [],
   "source": [
    "#Importar a função clear da biblioteca replit \n",
    "from replit import clear"
   ]
  },
  {
   "cell_type": "code",
   "execution_count": 22,
   "id": "f510bf4e",
   "metadata": {},
   "outputs": [
    {
     "name": "stdout",
     "output_type": "stream",
     "text": [
      "\n",
      "                         ___________\n",
      "                         \\         /\n",
      "                          )_______(\n",
      "                          |\"\"\"\"\"\"\"|_.-._,.---------.,_.-._\n",
      "                          |       | | |               | | ''-.\n",
      "                          |       |_| |_             _| |_..-'\n",
      "                          |_______| '-' `'---------'` '-'\n",
      "                          )\"\"\"\"\"\"\"(\n",
      "                         /_________\\\n",
      "                       .-------------.\n",
      "                      /_______________\\\n",
      "\n",
      "Welcome to the secret auction program.\n",
      "What's your name?Emerson\n",
      "What's your bit?99.99\n",
      "Are there any other bidders? Type 'yes' or 'not'.yes\n",
      "\u001b[H\u001b[2JWhat's your name?Maria\n",
      "What's your bit?89.75\n",
      "Are there any other bidders? Type 'yes' or 'not'.yes\n",
      "\u001b[H\u001b[2JWhat's your name?José\n",
      "What's your bit?78.89\n",
      "Are there any other bidders? Type 'yes' or 'not'.yes\n",
      "\u001b[H\u001b[2JWhat's your name?Alice\n",
      "What's your bit?25\n",
      "Are there any other bidders? Type 'yes' or 'not'.yes\n",
      "\u001b[H\u001b[2JWhat's your name?José\n",
      "What's your bit?65.23\n",
      "Are there any other bidders? Type 'yes' or 'not'.yes\n",
      "\u001b[H\u001b[2JWhat's your name?Jacó\n",
      "What's your bit?50\n",
      "Are there any other bidders? Type 'yes' or 'not'.not\n",
      "The winner is Emerson with a bid of $99.99\n"
     ]
    }
   ],
   "source": [
    "#Abertura do programa\n",
    "logo = '''\n",
    "                         ___________\n",
    "                         \\         /\n",
    "                          )_______(\n",
    "                          |\"\"\"\"\"\"\"|_.-._,.---------.,_.-._\n",
    "                          |       | | |               | | ''-.\n",
    "                          |       |_| |_             _| |_..-'\n",
    "                          |_______| '-' `'---------'` '-'\n",
    "                          )\"\"\"\"\"\"\"(\n",
    "                         /_________\\\\\n",
    "                       .-------------.\n",
    "                      /_______________\\\\\n",
    "'''\n",
    "print(logo)\n",
    "print('Welcome to the secret auction program.')\n",
    "\n",
    "#Dicionário com os lances oferecidos e variável para ajuda a definir se o programa deverá continuar rodando ou não.\n",
    "bids = {}\n",
    "other_person = \"yes\"\n",
    "\n",
    "#While loop que deverá rodar enquanto o usuário disser 'yes' para se existe algum outro lance.\n",
    "while other_person != \"not\":\n",
    "    \n",
    "    #Pedido ao usuário das informações de nome e lance\n",
    "    name = input(\"What's your name?\")\n",
    "    bid = float(input(\"What's your bit?\"))\n",
    "    \n",
    "    #Adicionando as informações de lance ao dicionário bids criado antes do while loop\n",
    "    bids[name] = bid\n",
    "    \n",
    "    #Perguntando se existe mais algum lance e caso sim, todas as informações da dela deverão ser apagadas.\n",
    "    other_person = input(\"Are there any other bidders? Type 'yes' or 'not'.\")\n",
    "    if other_person == \"yes\":\n",
    "        clear()\n",
    "\n",
    "#Definição de duas variáveis para guardar as informações de maior lance e o nome dx vencedorx        \n",
    "biggest_bid = 0\n",
    "winner = ''\n",
    "\n",
    "#Loop for, transformando o dicionário em tupla para facilitar a escrita do código, dando nome a chave e o valor. \n",
    "#Este loop for irá percorrer todos os itens do dicionário e verificando se os valores são maiores do que o que está \n",
    "#armazenado na variavel biggest_bid e substituindo se for verdadeiro e armazenando o respectivo nome na variável name.\n",
    "for name, bid in bids.items():\n",
    "    if bid > biggest_bid:\n",
    "        biggest_bid = bid\n",
    "        winner = name\n",
    "        \n",
    "#Mostrando o resultado do leilão    \n",
    "print(f'The winner is {winner} with a bid of ${biggest_bid}')"
   ]
  }
 ],
 "metadata": {
  "kernelspec": {
   "display_name": "Python 3",
   "language": "python",
   "name": "python3"
  },
  "language_info": {
   "codemirror_mode": {
    "name": "ipython",
    "version": 3
   },
   "file_extension": ".py",
   "mimetype": "text/x-python",
   "name": "python",
   "nbconvert_exporter": "python",
   "pygments_lexer": "ipython3",
   "version": "3.8.8"
  }
 },
 "nbformat": 4,
 "nbformat_minor": 5
}

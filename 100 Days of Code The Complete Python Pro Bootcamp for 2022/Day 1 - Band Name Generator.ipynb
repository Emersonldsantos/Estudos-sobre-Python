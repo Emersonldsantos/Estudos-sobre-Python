{
 "cells": [
  {
   "cell_type": "markdown",
   "id": "5cb1f46c",
   "metadata": {},
   "source": [
    "# Band Name Generator\n",
    "    1. Create a greeting for your program.\n",
    "    2. Ask the user for the city that they grew up in.\n",
    "    3. Ask the user for the name of a pet.\n",
    "    4. Combine the name of their city and pet and show them their band name."
   ]
  },
  {
   "cell_type": "code",
   "execution_count": 4,
   "id": "6e859af2",
   "metadata": {},
   "outputs": [
    {
     "name": "stdout",
     "output_type": "stream",
     "text": [
      "Welcome to the band name generator\n",
      "Wich city are you from?Salvador\n",
      "Whats the name of your pet?Baleia\n",
      "Your band name could be Salvador Baleia\n"
     ]
    }
   ],
   "source": [
    "#Mensagem de abertura\n",
    "print('Welcome to the band name generator')\n",
    "#Solicitação de preenchimento de cidade de nascimento\n",
    "city = input('Wich city are you from?')\n",
    "#Solicitação de preenchimento do bicho de estimação\n",
    "pet = input('Whats the name of your pet?')\n",
    "# Resultado do nome da banda, com a junção da cidade de nascimento e o nome do bicho de estimação.\n",
    "print('Your band name could be '+ str(city) + \" \" +str(pet))"
   ]
  }
 ],
 "metadata": {
  "kernelspec": {
   "display_name": "Python 3",
   "language": "python",
   "name": "python3"
  },
  "language_info": {
   "codemirror_mode": {
    "name": "ipython",
    "version": 3
   },
   "file_extension": ".py",
   "mimetype": "text/x-python",
   "name": "python",
   "nbconvert_exporter": "python",
   "pygments_lexer": "ipython3",
   "version": "3.8.8"
  }
 },
 "nbformat": 4,
 "nbformat_minor": 5
}

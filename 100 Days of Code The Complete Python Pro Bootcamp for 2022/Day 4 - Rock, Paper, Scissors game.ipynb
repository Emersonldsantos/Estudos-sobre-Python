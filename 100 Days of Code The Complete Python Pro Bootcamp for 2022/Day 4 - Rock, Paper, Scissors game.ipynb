{
 "cells": [
  {
   "cell_type": "markdown",
   "id": "948e6530",
   "metadata": {},
   "source": [
    "# Rock, Paper, Scissors game.\n",
    "\n",
    "Start the game by asking the player:\n",
    "\n",
    "\"What do you choose? Type 0 for Rock, 1 for Paper or 2 for Scissors.\""
   ]
  },
  {
   "cell_type": "code",
   "execution_count": 78,
   "id": "621d8619",
   "metadata": {},
   "outputs": [
    {
     "name": "stdout",
     "output_type": "stream",
     "text": [
      "What do you choose? Type 0 for Rock, 1 for Paper or 2 for Scissors: 2\n",
      "You chose:\n",
      "Scissors\n",
      "    _______\n",
      "---'   ____)____\n",
      "          ______)\n",
      "       __________)\n",
      "      (____)\n",
      "---.__(___)\n",
      "\n",
      "Computer chose:\n",
      "\n",
      "Scissors\n",
      "    _______\n",
      "---'   ____)____\n",
      "          ______)\n",
      "       __________)\n",
      "      (____)\n",
      "---.__(___)\n",
      "\n",
      "It's a draw\n"
     ]
    }
   ],
   "source": [
    "#Importando a biblioteca de random para gerar aleatoriamente a opção do computador\n",
    "import random\n",
    "\n",
    "#Variáveis com código ASCII para representar a pedra, o papel e a tesoura\n",
    "rock = '''\n",
    "Rock\n",
    "    _______\n",
    "---'   ____)\n",
    "      (_____)\n",
    "      (_____)\n",
    "      (____)\n",
    "---.__(___)\n",
    "'''\n",
    "\n",
    "paper = '''\n",
    "Paper\n",
    "    _______\n",
    "---'   ____)____\n",
    "          ______)\n",
    "          _______)\n",
    "         _______)\n",
    "---.__________)\n",
    "'''\n",
    "\n",
    "scissors = '''\n",
    "Scissors\n",
    "    _______\n",
    "---'   ____)____\n",
    "          ______)\n",
    "       __________)\n",
    "      (____)\n",
    "---.__(___)\n",
    "'''\n",
    "#Colhendo a opção do usuário\n",
    "n = int(input('What do you choose? Type 0 for Rock, 1 for Paper or 2 for Scissors: '))\n",
    "\n",
    "options = [rock, paper, scissors]\n",
    "\n",
    "#Mostrando a opção do usuário a partir do índice [n] pego no input e selecionado na lista optins\n",
    "print(f\"You chose:{options[n]}\")\n",
    "\n",
    "#Gerando um número aleatorio entre 0 e 2 que será a opção do computador\n",
    "computer_choice = random.randint(0,2)\n",
    "\n",
    "#Mostrando a opção do computador a partir do índice [n] pego no gerador da biblioteca random e selecionado na lista optins\n",
    "print(f'Computer chose:\\n{options[computer_choice]}')\n",
    "\n",
    "#Regras do jogo:\n",
    "#Pedra ganha da tesoura (amassando-a ou quebrando-a)\n",
    "#Tesoura ganha do papel (cortando-o)\n",
    "#Papel ganha da pedra (embrulhando-a)\n",
    "\n",
    "#Condicionais com as regras para ganhar ou perder.\n",
    "if n == computer_choice:\n",
    "    print(\"It's a draw\")\n",
    "elif (n == 0 and computer_choice == 2) or (n == 2 and computer_choice == 1) or (n == 1 and computer_choice == 0) :\n",
    "    print(\"You Win!\")\n",
    "else:\n",
    "    print(\"Computer Win!\")\n",
    "\n",
    "\n"
   ]
  }
 ],
 "metadata": {
  "kernelspec": {
   "display_name": "Python 3",
   "language": "python",
   "name": "python3"
  },
  "language_info": {
   "codemirror_mode": {
    "name": "ipython",
    "version": 3
   },
   "file_extension": ".py",
   "mimetype": "text/x-python",
   "name": "python",
   "nbconvert_exporter": "python",
   "pygments_lexer": "ipython3",
   "version": "3.8.8"
  }
 },
 "nbformat": 4,
 "nbformat_minor": 5
}

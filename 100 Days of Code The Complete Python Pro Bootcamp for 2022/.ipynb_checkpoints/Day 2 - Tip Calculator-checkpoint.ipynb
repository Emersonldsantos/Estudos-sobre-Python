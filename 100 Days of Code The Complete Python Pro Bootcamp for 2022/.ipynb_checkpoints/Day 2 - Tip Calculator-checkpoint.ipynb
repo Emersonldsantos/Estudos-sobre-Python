{
 "cells": [
  {
   "cell_type": "markdown",
   "id": "5b16e491",
   "metadata": {},
   "source": [
    "# Tip Calculator\n",
    "Instructions:\n",
    "   1. If the bill was $150.00, split between 5 people, with 12% tip.\n",
    "   2. Each person should pay (150.00 / 5) * 1.12 = 33.6\n",
    "   3. Format the result to 2 decimal places = 33.60\n",
    "   4. Thus everyone's share of the total bill is $30.00 plus a $3.60 tip."
   ]
  },
  {
   "cell_type": "code",
   "execution_count": 2,
   "id": "5d689455",
   "metadata": {},
   "outputs": [
    {
     "name": "stdout",
     "output_type": "stream",
     "text": [
      "Welcome to the tip calculator\n",
      "What was the total bill?150\n",
      "How many people to split the bill?5\n",
      "How much tip would you like to give? 10, 12, or 15?12\n",
      "Each person should pay: $33.6\n"
     ]
    }
   ],
   "source": [
    "print('Welcome to the tip calculator')\n",
    "#Solicitação de preenchimento das seguintes informações:\n",
    "#    -total da conta\n",
    "#    -quantas pessoas irão pagar\n",
    "#    -quanto desejam pagar de gorjeta\n",
    "# A partir do preenchimento das informações solicitadas acima, poderemos calcular o valor da conta a ser pago por cada pessoa presente.\n",
    "bill = float(input('What was the total bill?')) #Total da conta\n",
    "\n",
    "people = int(input('How many people to split the bill?')) #Quantidade de Pessoas\n",
    "\n",
    "tip = int(input('How much tip would you like to give? 10, 12, or 15?')) #Qual o percentual de gorjeta deseja pagar\n",
    "\n",
    "# Criação dos condicionais para cálculo do total da conta junto com o percentual de gorjeta que desejam pagar.\n",
    "if tip == 10:\n",
    "  bill *= 1.1\n",
    "elif tip == 12:\n",
    "  bill *= 1.12\n",
    "else:\n",
    "  bill *= 1.15\n",
    "\n",
    "#Divisão do total da conta por cada pessoa presente.\n",
    "pay = bill / people\n",
    "#Print do quanto cada um deve pagar\n",
    "print('Each person should pay: $' + str(round(pay,2)))\n"
   ]
  }
 ],
 "metadata": {
  "kernelspec": {
   "display_name": "Python 3",
   "language": "python",
   "name": "python3"
  },
  "language_info": {
   "codemirror_mode": {
    "name": "ipython",
    "version": 3
   },
   "file_extension": ".py",
   "mimetype": "text/x-python",
   "name": "python",
   "nbconvert_exporter": "python",
   "pygments_lexer": "ipython3",
   "version": "3.8.8"
  }
 },
 "nbformat": 4,
 "nbformat_minor": 5
}

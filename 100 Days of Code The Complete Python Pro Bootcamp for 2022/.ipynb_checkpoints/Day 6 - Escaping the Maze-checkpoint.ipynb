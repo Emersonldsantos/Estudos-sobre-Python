{
 "cells": [
  {
   "cell_type": "markdown",
   "id": "6009fa29",
   "metadata": {},
   "source": [
    "# Instructions:\n",
    "Reeborg was exploring a dark maze and the battery in its flashlight ran out.\n",
    "\n",
    "Write a program using an if/elif/else statement so Reeborg can find the exit. The secret is to have Reeborg follow along the right edge of the maze, turning right if it can, going straight ahead if it can’t turn right, or turning left as a last resort.\n",
    "\n",
    "What you need to know:\n",
    " - The functions move() and turn_left().\n",
    " - Either the test front_is_clear() or wall_in_front(), right_is_clear() or wall_on_right(), and at_goal().\n",
    " - How to use a while loop and if/elif/else statements.\n",
    " - It might be useful to know how to use the negation of a test (not in Python).\n",
    "\n",
    "LINK FOR THE GAME: [Press Here](https://reeborg.ca/reeborg.html?lang=en&mode=python&menu=worlds%2Fmenus%2Freeborg_intro_en.json&name=Maze&url=worlds%2Ftutorial_en%2Fmaze1.json)"
   ]
  },
  {
   "cell_type": "code",
   "execution_count": null,
   "id": "ffc42de7",
   "metadata": {},
   "outputs": [],
   "source": [
    "#Função para virar a esquerda e economizar algumas linhas de código:\n",
    "def turn_right():\n",
    "    turn_left()\n",
    "    turn_left()\n",
    "    turn_left()\n",
    "\n",
    "#Instruções para o que o boneco deve fazer quando se depararcom as informações das funções abaixo:    \n",
    "while at_goal() is not True:\n",
    "    if right_is_clear():\n",
    "        turn_right()\n",
    "        move()\n",
    "    elif wall_in_front():\n",
    "        turn_left()\n",
    "    elif wall_on_right():\n",
    "        turn_left()\n",
    "    elif right_is_clear():\n",
    "        turn_right()\n",
    "    elif front_is_clear():\n",
    "        move()"
   ]
  }
 ],
 "metadata": {
  "kernelspec": {
   "display_name": "Python 3",
   "language": "python",
   "name": "python3"
  },
  "language_info": {
   "codemirror_mode": {
    "name": "ipython",
    "version": 3
   },
   "file_extension": ".py",
   "mimetype": "text/x-python",
   "name": "python",
   "nbconvert_exporter": "python",
   "pygments_lexer": "ipython3",
   "version": "3.8.8"
  }
 },
 "nbformat": 4,
 "nbformat_minor": 5
}

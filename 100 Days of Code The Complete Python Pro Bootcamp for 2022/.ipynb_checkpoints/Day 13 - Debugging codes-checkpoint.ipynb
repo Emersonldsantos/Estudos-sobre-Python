{
 "cells": [
  {
   "cell_type": "markdown",
   "id": "13c863b0",
   "metadata": {},
   "source": [
    "# Debugging the code"
   ]
  },
  {
   "cell_type": "markdown",
   "id": "b9617142",
   "metadata": {},
   "source": [
    "`def my_function():\n",
    "    for i in range(1, 20):\n",
    "        if i == 20:\n",
    "            print(\"You got it\")\n",
    "my_function()`\n",
    "\n",
    "A função range não inclui o último número, ou seja, para no 19. Então, o código não vai imprimir a mensagem de 'You got it'."
   ]
  },
  {
   "cell_type": "code",
   "execution_count": 29,
   "id": "c9952bb4",
   "metadata": {},
   "outputs": [
    {
     "name": "stdout",
     "output_type": "stream",
     "text": [
      "You got it\n"
     ]
    }
   ],
   "source": [
    "# Função Correta\n",
    "def my_function():\n",
    "    for i in range(1, 21):\n",
    "        if i == 20:\n",
    "            return print(\"You got it\")\n",
    "my_function()"
   ]
  },
  {
   "cell_type": "markdown",
   "id": "950f1502",
   "metadata": {},
   "source": [
    "`from random import randint\n",
    "dice_imgs = [\"❶\", \"❷\", \"❸\", \"❹\", \"❺\", \"❻\"]\n",
    "dice_num = randint(1, 6)\n",
    "print(dice_imgs[dice_num])`               \n",
    "\n",
    "O índice no python começa com o 0, então apesar do tamanho da lista de dice_imgs ser 6, para acionarmos o primeiro item devemos começar com 0, into até cinco no caso. Assim, correto seria randint(0,5)."
   ]
  },
  {
   "cell_type": "code",
   "execution_count": 26,
   "id": "8dcf8f3b",
   "metadata": {},
   "outputs": [
    {
     "name": "stdout",
     "output_type": "stream",
     "text": [
      "❸\n"
     ]
    }
   ],
   "source": [
    "from random import randint\n",
    "dice_imgs = [\"❶\", \"❷\", \"❸\", \"❹\", \"❺\", \"❻\"]\n",
    "dice_num = randint(0, 5)\n",
    "print(dice_imgs[dice_num])"
   ]
  },
  {
   "cell_type": "markdown",
   "id": "234c3ec8",
   "metadata": {},
   "source": [
    "``year = int(input(\"What's your year of birth?\"))\n",
    "if year > 1980 and year < 1994:\n",
    "    print(\"You are a millenial.\")\n",
    "elif year > 1994:\n",
    "    print(\"You are a Gen Z.\")``\n",
    "    \n",
    "O código acima esqueceu de incluir o ano de 1994. Caso o usuário preenchesse que nasceu em 1994, nenhuma mensagem seria mostrada. Isto é facilmente corrigo colocando o >= no elif."
   ]
  },
  {
   "cell_type": "code",
   "execution_count": 31,
   "id": "77f312d3",
   "metadata": {},
   "outputs": [
    {
     "name": "stdout",
     "output_type": "stream",
     "text": [
      "What's your year of birth?1994\n",
      "You are a Gen Z.\n"
     ]
    }
   ],
   "source": [
    "year = int(input(\"What's your year of birth?\"))\n",
    "if year > 1980 and year < 1994:\n",
    "    print(\"You are a millenial.\")\n",
    "elif year >= 1994:\n",
    "    print(\"You are a Gen Z.\")"
   ]
  },
  {
   "cell_type": "markdown",
   "id": "8409c117",
   "metadata": {},
   "source": [
    "``age = input(\"How old are you?\")\n",
    "if age > 18:\n",
    "print(\"You can drive at age {age}.\")``\n",
    "\n",
    "O input recebe o valor como uma string, com isso o programa não consegue comparar com o número 18 que é um int. Colocando o int antes do input, conseguimos resolver este problema. Além disso, adicionei a condição else para mostrar também que o usuário não pode dirigir caso tenha menos de 18 anos."
   ]
  },
  {
   "cell_type": "code",
   "execution_count": 33,
   "id": "8a75ea83",
   "metadata": {},
   "outputs": [
    {
     "name": "stdout",
     "output_type": "stream",
     "text": [
      "How old are you?16\n",
      "You cannot drive at age 16\n"
     ]
    }
   ],
   "source": [
    "age = int(input(\"How old are you?\"))\n",
    "if age > 18:\n",
    "    print(f\"You can drive at age {age}.\")\n",
    "else:\n",
    "    print(f\"You cannot drive at age {age}\")"
   ]
  },
  {
   "cell_type": "markdown",
   "id": "2dc2da43",
   "metadata": {},
   "source": [
    "``pages = 0\n",
    "word_per_page = 0\n",
    "pages = int(input(\"Number of pages: \"))\n",
    "word_per_page == int(input(\"Number of words per page: \"))\n",
    "total_words = pages * word_per_page\n",
    "print(total_words)``\n",
    "\n",
    "A variável word_per_page que tem o valor 0 armazenado está comparando com o input. O correto é usar o operador '='"
   ]
  },
  {
   "cell_type": "code",
   "execution_count": 34,
   "id": "0dcf4725",
   "metadata": {},
   "outputs": [
    {
     "name": "stdout",
     "output_type": "stream",
     "text": [
      "Number of pages: 325\n",
      "Number of words per page: 68\n",
      "22100\n"
     ]
    }
   ],
   "source": [
    "pages = 0\n",
    "word_per_page = 0\n",
    "pages = int(input(\"Number of pages: \"))\n",
    "word_per_page = int(input(\"Number of words per page: \"))\n",
    "total_words = pages * word_per_page\n",
    "print(total_words)"
   ]
  },
  {
   "cell_type": "markdown",
   "id": "03feb17c",
   "metadata": {},
   "source": [
    "``def mutate(a_list):\n",
    "    b_list = []\n",
    "    for item in a_list:\n",
    "        new_item = item * 2\n",
    "        b_list.append(new_item)\n",
    "    print(b_list)``\n",
    "\n",
    "Existe um erro de indentação, o append precisa estar indentado com o for para que todos os items sem adicionados."
   ]
  },
  {
   "cell_type": "code",
   "execution_count": 36,
   "id": "76ecfe04",
   "metadata": {},
   "outputs": [
    {
     "name": "stdout",
     "output_type": "stream",
     "text": [
      "[2, 4, 6, 10, 16, 26]\n"
     ]
    }
   ],
   "source": [
    "def mutate(a_list):\n",
    "    b_list = []\n",
    "    for item in a_list:\n",
    "        new_item = item * 2\n",
    "        b_list.append(new_item)\n",
    "    print(b_list)\n",
    "\n",
    "mutate([1,2,3,5,8,13])"
   ]
  },
  {
   "cell_type": "markdown",
   "id": "4def1483",
   "metadata": {},
   "source": [
    "``for number in range(1, 101):\n",
    "if number % 3 == 0 or number % 5 == 0:\n",
    "    print(\"FizzBuzz\")\n",
    "if number % 3 == 0:\n",
    "    print(\"Fizz\")\n",
    "if number % 5 == 0:\n",
    "    print(\"Buzz\")\n",
    "else:\n",
    "    print([number])``\n",
    "    \n",
    "Resolução:\n",
    "    \n",
    "``if number % 3 == 0 or number % 5 == 0:``\n",
    "\n",
    "Neste caso deve ser o operador 'and', pois as duas condições precisam ser \"true\" para que seja mostrado FizzBuzz\n",
    "\n",
    "``if number % 3 == 0:\n",
    "if number % 5 == 0:``\n",
    "\n",
    "Nos casos acima, deveriam ser utilizados o operador elif (caso não), pois somente caso o if seja falso, é que deve verificar se se são divisores de 3 ou 5 individualmente. Assim, conseguimos criar um só bloco de condições.\n",
    "\n",
    " ``print([number])``\n",
    " \n",
    " Podemos colocar para printar sem estar entre [], pois assim fica mostrando o número em uma lista."
   ]
  },
  {
   "cell_type": "code",
   "execution_count": 37,
   "id": "fb23a5c5",
   "metadata": {},
   "outputs": [
    {
     "name": "stdout",
     "output_type": "stream",
     "text": [
      "1\n",
      "2\n",
      "Fizz\n",
      "4\n",
      "Buzz\n",
      "Fizz\n",
      "7\n",
      "8\n",
      "Fizz\n",
      "Buzz\n",
      "11\n",
      "Fizz\n",
      "13\n",
      "14\n",
      "FizzBuzz\n",
      "16\n",
      "17\n",
      "Fizz\n",
      "19\n",
      "Buzz\n",
      "Fizz\n",
      "22\n",
      "23\n",
      "Fizz\n",
      "Buzz\n",
      "26\n",
      "Fizz\n",
      "28\n",
      "29\n",
      "FizzBuzz\n",
      "31\n",
      "32\n",
      "Fizz\n",
      "34\n",
      "Buzz\n",
      "Fizz\n",
      "37\n",
      "38\n",
      "Fizz\n",
      "Buzz\n",
      "41\n",
      "Fizz\n",
      "43\n",
      "44\n",
      "FizzBuzz\n",
      "46\n",
      "47\n",
      "Fizz\n",
      "49\n",
      "Buzz\n",
      "Fizz\n",
      "52\n",
      "53\n",
      "Fizz\n",
      "Buzz\n",
      "56\n",
      "Fizz\n",
      "58\n",
      "59\n",
      "FizzBuzz\n",
      "61\n",
      "62\n",
      "Fizz\n",
      "64\n",
      "Buzz\n",
      "Fizz\n",
      "67\n",
      "68\n",
      "Fizz\n",
      "Buzz\n",
      "71\n",
      "Fizz\n",
      "73\n",
      "74\n",
      "FizzBuzz\n",
      "76\n",
      "77\n",
      "Fizz\n",
      "79\n",
      "Buzz\n",
      "Fizz\n",
      "82\n",
      "83\n",
      "Fizz\n",
      "Buzz\n",
      "86\n",
      "Fizz\n",
      "88\n",
      "89\n",
      "FizzBuzz\n",
      "91\n",
      "92\n",
      "Fizz\n",
      "94\n",
      "Buzz\n",
      "Fizz\n",
      "97\n",
      "98\n",
      "Fizz\n",
      "Buzz\n"
     ]
    }
   ],
   "source": [
    "for number in range(1, 101):\n",
    "    if number % 3 == 0 and number % 5 == 0:\n",
    "        print(\"FizzBuzz\")\n",
    "    elif number % 3 == 0:\n",
    "        print(\"Fizz\")\n",
    "    elif number % 5 == 0:\n",
    "        print(\"Buzz\")\n",
    "    else:\n",
    "        print(number)"
   ]
  }
 ],
 "metadata": {
  "kernelspec": {
   "display_name": "Python 3",
   "language": "python",
   "name": "python3"
  },
  "language_info": {
   "codemirror_mode": {
    "name": "ipython",
    "version": 3
   },
   "file_extension": ".py",
   "mimetype": "text/x-python",
   "name": "python",
   "nbconvert_exporter": "python",
   "pygments_lexer": "ipython3",
   "version": "3.8.8"
  }
 },
 "nbformat": 4,
 "nbformat_minor": 5
}

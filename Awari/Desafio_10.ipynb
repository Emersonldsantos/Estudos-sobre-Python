{
 "cells": [
  {
   "cell_type": "markdown",
   "metadata": {
    "colab_type": "text",
    "id": "view-in-github"
   },
   "source": [
    "![](https://i.imgur.com/YX6UATs.png)"
   ]
  },
  {
   "cell_type": "markdown",
   "metadata": {
    "colab_type": "text",
    "id": "a4-FLDRof6Jv"
   },
   "source": [
    "### Desafio 10\n",
    "\n",
    "Dada uma lista, divida-a em 3 partes iguais e reverta a ordem de cada lista.\n",
    "\n",
    "**Exemplo:** \n",
    "\n",
    "Entrada: \\\n",
    "sampleList = [11, 45, 8, 23, 14, 12, 78, 45, 89]\n",
    "\n",
    "Saída: \\\n",
    "Parte 1 [8, 45, 11] \\\n",
    "Parte 2 [12, 14, 23] \\\n",
    "Parte 3 [89, 45, 78] "
   ]
  },
  {
   "cell_type": "code",
   "execution_count": 76,
   "metadata": {
    "colab": {},
    "colab_type": "code",
    "id": "IJ70pUjnf6Jw",
    "scrolled": true
   },
   "outputs": [
    {
     "name": "stdout",
     "output_type": "stream",
     "text": [
      "Parte 1 [8, 45, 11]\n",
      "Parte 2 [12, 14, 23]\n",
      "Parte 3 [89, 45, 78]\n"
     ]
    }
   ],
   "source": [
    "samplelist = [11,45,8,23,14,12,78,45,89]\n",
    "divisao = len(samplelist) / 3\n",
    "parte1 = []\n",
    "parte2 = []\n",
    "parte3 = []\n",
    "i = 0\n",
    "while i < divisao:\n",
    "    parte1.append(samplelist[i])\n",
    "    i +=1\n",
    "while i < (divisao*2):\n",
    "    parte2.append(samplelist[i])\n",
    "    i +=1\n",
    "while i < (divisao*3):\n",
    "    parte3.append(samplelist[i])\n",
    "    i +=1\n",
    "parte1.reverse()\n",
    "parte2.reverse()\n",
    "parte3.reverse()\n",
    "print('Parte 1', parte1)\n",
    "print('Parte 2', parte2)\n",
    "print('Parte 3', parte3)"
   ]
  }
 ],
 "metadata": {
  "anaconda-cloud": {},
  "colab": {
   "include_colab_link": true,
   "name": "Desafio 10.ipynb",
   "provenance": []
  },
  "kernelspec": {
   "display_name": "Python 3",
   "language": "python",
   "name": "python3"
  },
  "language_info": {
   "codemirror_mode": {
    "name": "ipython",
    "version": 3
   },
   "file_extension": ".py",
   "mimetype": "text/x-python",
   "name": "python",
   "nbconvert_exporter": "python",
   "pygments_lexer": "ipython3",
   "version": "3.8.8"
  }
 },
 "nbformat": 4,
 "nbformat_minor": 1
}

{
 "cells": [
  {
   "cell_type": "markdown",
   "metadata": {
    "colab_type": "text",
    "id": "view-in-github"
   },
   "source": [
    "![](https://i.imgur.com/YX6UATs.png)"
   ]
  },
  {
   "cell_type": "markdown",
   "metadata": {
    "colab_type": "text",
    "id": "gQbaWOWcW1g_"
   },
   "source": [
    "# Desafio 5\n",
    "Você trabalha em uma loja de sapatos e deve contatar uma série de clientes. Seus números de telefone estão na lista abaixo. No entanto, é possível notar números duplicados na lista dada. Você seria capaz de remover estes duplicados para evitar que clientes sejam contatados mais de uma vez?"
   ]
  },
  {
   "cell_type": "code",
   "execution_count": 11,
   "metadata": {
    "colab": {},
    "colab_type": "code",
    "id": "T68FjcUmWear"
   },
   "outputs": [
    {
     "name": "stdout",
     "output_type": "stream",
     "text": [
      "22\n"
     ]
    }
   ],
   "source": [
    "numeros_telefone = [\n",
    "'(765) 368-1506',\n",
    "'(285) 608-2448',\n",
    "'(255) 826-9050',\n",
    "'(554) 994-1517',\n",
    "'(285) 608-2448',\n",
    "'(596) 336-5508',\n",
    "'(511) 821-7870',\n",
    "'(410) 665-4447',\n",
    "'(821) 642-8987',\n",
    "'(285) 608-2448',\n",
    "'(311) 799-3883',\n",
    "'(935) 875-2054',\n",
    "'(464) 788-2397',\n",
    "'(765) 368-1506',\n",
    "'(650) 684-1437',\n",
    "'(812) 816-0881',\n",
    "'(285) 608-2448',\n",
    "'(885) 407-1719',\n",
    "'(943) 769-1061',\n",
    "'(596) 336-5508',\n",
    "'(765) 368-1506',\n",
    "'(255) 826-9050',\n",
    "]\n",
    "print(len(numeros_telefone))"
   ]
  },
  {
   "cell_type": "code",
   "execution_count": 14,
   "metadata": {
    "colab": {},
    "colab_type": "code",
    "id": "F8n1sN-4XrW3"
   },
   "outputs": [],
   "source": [
    "def remover_duplicados(numeros):\n",
    "    nova_lista = []\n",
    "    for numero in numeros:\n",
    "        if numero in nova_lista:\n",
    "            pass\n",
    "        else: \n",
    "            nova_lista.append(numero)\n",
    "    return nova_lista"
   ]
  },
  {
   "cell_type": "code",
   "execution_count": 16,
   "metadata": {},
   "outputs": [
    {
     "data": {
      "text/plain": [
       "['(765) 368-1506',\n",
       " '(285) 608-2448',\n",
       " '(255) 826-9050',\n",
       " '(554) 994-1517',\n",
       " '(596) 336-5508',\n",
       " '(511) 821-7870',\n",
       " '(410) 665-4447',\n",
       " '(821) 642-8987',\n",
       " '(311) 799-3883',\n",
       " '(935) 875-2054',\n",
       " '(464) 788-2397',\n",
       " '(650) 684-1437',\n",
       " '(812) 816-0881',\n",
       " '(885) 407-1719',\n",
       " '(943) 769-1061']"
      ]
     },
     "execution_count": 16,
     "metadata": {},
     "output_type": "execute_result"
    }
   ],
   "source": [
    "remover_duplicados(numeros_telefone)"
   ]
  }
 ],
 "metadata": {
  "colab": {
   "authorship_tag": "ABX9TyO0u4amKtoFgAgnb/IGUddy",
   "include_colab_link": true,
   "name": "Desafio 5.ipynb",
   "provenance": []
  },
  "kernelspec": {
   "display_name": "Python 3",
   "language": "python",
   "name": "python3"
  },
  "language_info": {
   "codemirror_mode": {
    "name": "ipython",
    "version": 3
   },
   "file_extension": ".py",
   "mimetype": "text/x-python",
   "name": "python",
   "nbconvert_exporter": "python",
   "pygments_lexer": "ipython3",
   "version": "3.8.8"
  }
 },
 "nbformat": 4,
 "nbformat_minor": 1
}

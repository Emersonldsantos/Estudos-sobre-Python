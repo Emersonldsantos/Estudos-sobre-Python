{
 "cells": [
  {
   "cell_type": "markdown",
   "metadata": {
    "colab_type": "text",
    "id": "view-in-github"
   },
   "source": [
    "![](https://i.imgur.com/YX6UATs.png)"
   ]
  },
  {
   "cell_type": "markdown",
   "metadata": {
    "colab_type": "text",
    "id": "AYHY2YXQf6J2"
   },
   "source": [
    "### Desafio 12\n",
    "\n",
    "Escreva uma função em Python para verificar a validade de uma senha.\n",
    "\n",
    "A senha deve ter:\n",
    "\n",
    "* Pelo menos 1 letra entre [a-z] e 1 letra entre [A-Z].\n",
    "* Pelo menos 1 número entre [0-9].\n",
    "* Pelo menos 1 caractere de [$ # @].\n",
    "* Comprimento mínimo de 6 caracteres.\n",
    "* Comprimento máximo de 16 caracteres.\n",
    "\n",
    "Entradas: \"12345678\", \"J3sus0\", \"#Te5t300\", \"J*90j12374\", \"Michheeul\", \"Monk3y6\"\n",
    "\n",
    "A saída deve ser a senha e um texto indicando se a senha é válida ou inválida:\n",
    "\n",
    "```\n",
    "\"1234\" - Senha inválida\n",
    "\"Qw#1234\" - Senha válida\n",
    "```"
   ]
  },
  {
   "cell_type": "code",
   "execution_count": 228,
   "metadata": {
    "colab": {},
    "colab_type": "code",
    "id": "UGgtGYGGf6J3"
   },
   "outputs": [],
   "source": [
    "def validade_senha(senha):\n",
    "# Verificando se tem os caracteres $#@\n",
    "    caracteres = ['$','#','@']\n",
    "    t1 = False\n",
    "    for item in caracteres:\n",
    "        if item in senha:\n",
    "            t1 = True\n",
    "#Verificando se tem número\n",
    "    t2 = any(item.isdigit() for item in senha)\n",
    "#Verificando se tem entre 6 e 16 caracteres\n",
    "    t3 = False\n",
    "    if 6 <= len(senha) <= 16:\n",
    "        t3 = True\n",
    "#Verificando se tem uma letra maiscula\n",
    "    t4 = any(item.isupper() for item in senha)\n",
    "#Verificando se tem uma letra minuscula\n",
    "    t5 = any(item.islower() for item in senha)\n",
    "    if (t1 and t2 and t3 and t4 and t5) == True:\n",
    "        print('{} é uma senha válida'.format(senha))\n",
    "    else:\n",
    "        print('{} é uma senha inválida. \\nConserte os seguintes erros:' .format(senha))\n",
    "    if t1 == False:\n",
    "            print('Você precisa colocar um dos seguintes caracteres na senha: @ ou # ou $')\n",
    "    if t2 == False:\n",
    "            print('Você precisa colocar um ou mais números entre 0-9')\n",
    "    if t3 == False:\n",
    "            print('Você precisa digitar uma senha que possua entre 6 e 16 caracteres')\n",
    "    if t4 == False:\n",
    "            print('Você precisa colocar pelo menos uma letra maiúscula')\n",
    "    if t5 == False:\n",
    "            print('Você precisa colocar pelo menos uma letra minúscula')"
   ]
  },
  {
   "cell_type": "code",
   "execution_count": 229,
   "metadata": {},
   "outputs": [
    {
     "name": "stdout",
     "output_type": "stream",
     "text": [
      "12345678 é uma senha inválida. \n",
      "Conserte os seguintes erros:\n",
      "Você precisa colocar um dos seguintes caracteres na senha: @ ou # ou $\n",
      "Você precisa colocar pelo menos uma letra maiúscula\n",
      "Você precisa colocar pelo menos uma letra minúscula\n",
      "-------------------------------------------------------\n",
      "J3sus0 é uma senha inválida. \n",
      "Conserte os seguintes erros:\n",
      "Você precisa colocar um dos seguintes caracteres na senha: @ ou # ou $\n",
      "-------------------------------------------------------\n",
      "Te5t300 é uma senha inválida. \n",
      "Conserte os seguintes erros:\n",
      "Você precisa colocar um dos seguintes caracteres na senha: @ ou # ou $\n",
      "-------------------------------------------------------\n",
      "J*90j12374 é uma senha inválida. \n",
      "Conserte os seguintes erros:\n",
      "Você precisa colocar um dos seguintes caracteres na senha: @ ou # ou $\n",
      "-------------------------------------------------------\n",
      "Michheeul é uma senha inválida. \n",
      "Conserte os seguintes erros:\n",
      "Você precisa colocar um dos seguintes caracteres na senha: @ ou # ou $\n",
      "Você precisa colocar um ou mais números entre 0-9\n",
      "-------------------------------------------------------\n",
      "Monk3y6 é uma senha inválida. \n",
      "Conserte os seguintes erros:\n",
      "Você precisa colocar um dos seguintes caracteres na senha: @ ou # ou $\n"
     ]
    }
   ],
   "source": [
    "validade_senha('12345678')\n",
    "print('-' * 55 )\n",
    "validade_senha('J3sus0')\n",
    "print('-' * 55 )\n",
    "validade_senha('Te5t300')\n",
    "print('-' * 55 )\n",
    "validade_senha('J*90j12374')\n",
    "print('-' * 55 )\n",
    "validade_senha('Michheeul')\n",
    "print('-' * 55 )\n",
    "validade_senha('Monk3y6')"
   ]
  }
 ],
 "metadata": {
  "anaconda-cloud": {},
  "colab": {
   "include_colab_link": true,
   "name": "Desafio 12.ipynb",
   "provenance": []
  },
  "kernelspec": {
   "display_name": "Python 3",
   "language": "python",
   "name": "python3"
  },
  "language_info": {
   "codemirror_mode": {
    "name": "ipython",
    "version": 3
   },
   "file_extension": ".py",
   "mimetype": "text/x-python",
   "name": "python",
   "nbconvert_exporter": "python",
   "pygments_lexer": "ipython3",
   "version": "3.8.8"
  }
 },
 "nbformat": 4,
 "nbformat_minor": 1
}
